{
  "nbformat": 4,
  "nbformat_minor": 0,
  "metadata": {
    "colab": {
      "provenance": [],
      "authorship_tag": "ABX9TyMPtbQj5mcyjRr3X7+0LZ+u",
      "include_colab_link": true
    },
    "kernelspec": {
      "name": "python3",
      "display_name": "Python 3"
    },
    "language_info": {
      "name": "python"
    }
  },
  "cells": [
    {
      "cell_type": "markdown",
      "metadata": {
        "id": "view-in-github",
        "colab_type": "text"
      },
      "source": [
        "<a href=\"https://colab.research.google.com/github/yassnothere/Statistik-Komputasi/blob/main/Pertemuan_3.ipynb\" target=\"_parent\"><img src=\"https://colab.research.google.com/assets/colab-badge.svg\" alt=\"Open In Colab\"/></a>"
      ]
    },
    {
      "cell_type": "code",
      "execution_count": 4,
      "metadata": {
        "colab": {
          "base_uri": "https://localhost:8080/"
        },
        "id": "PrfH-Y-HHDwa",
        "outputId": "ed749c75-da87-443a-ad1a-fee0ef5aa369"
      },
      "outputs": [
        {
          "output_type": "stream",
          "name": "stdout",
          "text": [
            "               0\n",
            "count  10.000000\n",
            "mean   52.900000\n",
            "std    18.399577\n",
            "min    23.000000\n",
            "25%    47.250000\n",
            "50%    55.500000\n",
            "75%    61.250000\n",
            "max    85.000000\n"
          ]
        }
      ],
      "source": [
        "import numpy as np\n",
        "import pandas as pd\n",
        "data_baru = np.array([23, 56, 45, 65, 59, 55, 62, 54, 85, 25])\n",
        "print(pd.DataFrame(data_baru).describe())"
      ]
    },
    {
      "cell_type": "code",
      "source": [
        "import numpy as np\n",
        "import matplotlib.pyplot as plt\n",
        "from sklearn.preprocessing import MinMaxScaler, StandardScaler\n",
        "\n",
        "data_raw = np.array([\n",
        "    [2, 3, 7, 30],\n",
        "    [9, 4, 6, 1],\n",
        "    [8, 15, 2, 40],\n",
        "    [20, 10, 2, 6]\n",
        "])\n",
        "std_scaler = StandardScaler()\n",
        "df_scale = std_scaler.fit_transform(data_raw)\n",
        "print(df_scale)\n",
        "plt.boxplot(df_scale)\n",
        "np.mean(df_scale)\n",
        "np.std(df_scale)\n",
        "print(np.mean(df_scale))"
      ],
      "metadata": {
        "colab": {
          "base_uri": "https://localhost:8080/",
          "height": 517
        },
        "id": "8of8aP59WOvi",
        "outputId": "64f8c752-af0f-4471-8670-bb57ac893f75"
      },
      "execution_count": 16,
      "outputs": [
        {
          "output_type": "stream",
          "name": "stdout",
          "text": [
            "[[-1.19319056 -1.03142125  1.20740686  0.66200869]\n",
            " [-0.11547005 -0.825137    0.76834982 -1.12387522]\n",
            " [-0.26943013  1.44398974 -0.98787834  1.27783073]\n",
            " [ 1.57809074  0.4125685  -0.98787834 -0.8159642 ]]\n",
            "-1.3877787807814457e-17\n"
          ]
        },
        {
          "output_type": "display_data",
          "data": {
            "text/plain": [
              "<Figure size 640x480 with 1 Axes>"
            ],
            "image/png": "[encoded data removed]"
          },
          "metadata": {}
        }
      ]
    }
  ]
}